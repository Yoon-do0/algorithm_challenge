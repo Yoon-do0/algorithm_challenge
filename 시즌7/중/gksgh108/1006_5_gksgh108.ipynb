p1 = list(map(int, input().split()))
p2 = list(map(int, input().split()))
p3 = list(map(int, input().split()))

temp = (p2[0] - p1[0]) * (p3[1] - p1[1]) - (p2[1] - p1[1]) * (p3[0] - p1[0])

if temp > 0: # 반시계 방향
    print(1)
elif temp < 0: # 시계 방향
    print(-1)
else: # 일직선 
    print(0)
